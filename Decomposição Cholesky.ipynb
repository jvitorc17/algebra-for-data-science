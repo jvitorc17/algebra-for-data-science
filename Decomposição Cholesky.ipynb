{
 "cells": [
  {
   "cell_type": "markdown",
   "metadata": {},
   "source": [
    "### <center>Decomposição Cholesky</center>"
   ]
  },
  {
   "cell_type": "markdown",
   "metadata": {},
   "source": [
    "Se a matriz A é definida positiva, podemos decompô-la unicamente no produto $GG^{t}$, onde $G$ é uma matriz triangular inferior com elementos positivos na diagonal."
   ]
  },
  {
   "cell_type": "markdown",
   "metadata": {},
   "source": [
    "Seja\n",
    "$A=\n",
    "  \\left[ {\\begin{array}{cc}\n",
    "   a_{11} & a_{12} & \\dots & a_{1n} \\\\\n",
    "   a_{21} & a_{22} & \\dots & a_{2n} \\\\\n",
    "   \\vdots & \\vdots & \\ddots & \\vdots \\\\\n",
    "   a_{n1} & a_{n2} & \\dots & a_{nn} \\\\\n",
    "  \\end{array} } \\right] =\n",
    " $ \n",
    " $  \n",
    "   \\left[ {\\begin{array}{cc}\n",
    "   g_{11} & 0      & \\dots  & 0 \\\\\n",
    "   g_{21} & g_{22} & \\dots  & 0 \\\\\n",
    "   \\vdots & \\vdots & \\ddots & \\vdots \\\\\n",
    "   g_{n1} & g_{n2} & \\dots  & g_{nn} \\\\\n",
    "  \\end{array} } \\right] *\n",
    "  $\n",
    "  $\n",
    "  \\left[ {\\begin{array}{cc}\n",
    "   g_{11} & g_{21} & \\dots  & g_{n1} \\\\\n",
    "   0      & g_{22} & \\dots  & g_{n2} \\\\\n",
    "   \\vdots & \\vdots & \\ddots & \\vdots \\\\\n",
    "   0      & 0      & \\dots  & g_{nn} \\\\\n",
    "  \\end{array} } \\right]$"
   ]
  },
  {
   "cell_type": "markdown",
   "metadata": {},
   "source": [
    "### Calculando as diagonais principais:"
   ]
  },
  {
   "cell_type": "markdown",
   "metadata": {},
   "source": [
    "$a_{11} = g_{11}^2 $<br>\n",
    "$a_{22} = g_{21}^2 + g_{22}^2$<br>\n",
    "$\\vdots $<br>\n",
    "$a_{nn} = g_{n1}^2 + g_{n2}^2 + \\dots + g_{nn}^2$"
   ]
  },
  {
   "cell_type": "markdown",
   "metadata": {},
   "source": [
    "Assim,"
   ]
  },
  {
   "cell_type": "markdown",
   "metadata": {},
   "source": [
    "$ g_{11} = \\sqrt{a_{11}} $ <br>\n",
    "$g_{22} = \\sqrt{a_{22} - g_{21}^2}$ <br>\n",
    "$\\vdots$ <br>\n",
    "$g_{nn} = \\sqrt{a_{nn} - g_{n1}^2 - g_{n2}^2 - \\dots - g_{nn-1}^2}$"
   ]
  },
  {
   "cell_type": "markdown",
   "metadata": {},
   "source": [
    "Regra geral,"
   ]
  },
  {
   "cell_type": "markdown",
   "metadata": {},
   "source": [
    "$ g_{11} = \\sqrt{a_{11}} $  <br>\n",
    "$g_{ii} = \\sqrt{a_{ii} - \\sum_{k = 1}^{i-1}g_{ik}^2},  i = 2,3 \\dots n $"
   ]
  },
  {
   "cell_type": "markdown",
   "metadata": {},
   "source": [
    "### Fórmula Geral"
   ]
  },
  {
   "cell_type": "markdown",
   "metadata": {},
   "source": [
    "$g_{i1} = \\frac{a_{i1}}{g_{11}} $, $ \\forall i \\in {1,2, \\dots n}$<br>\n",
    "$g_{ij} = \\frac{(a_{ij} - \\sum_{k=1}^{j-1} g_{ik}*g_{jk})}{g_{jj}}$"
   ]
  },
  {
   "cell_type": "markdown",
   "metadata": {},
   "source": [
    "### Determinante"
   ]
  },
  {
   "cell_type": "markdown",
   "metadata": {},
   "source": [
    "$ A = G^{t}G $ <br>\n",
    "$ det(A) = det(G^{t}) * det(G) $<br> \n",
    "$det(A) = a_{11} * a_{22} * \\dots *a_{nn}\n",
    "$\n"
   ]
  },
  {
   "cell_type": "code",
   "execution_count": 34,
   "metadata": {},
   "outputs": [],
   "source": [
    "import numpy as np"
   ]
  },
  {
   "cell_type": "code",
   "execution_count": 74,
   "metadata": {},
   "outputs": [],
   "source": [
    "def Cholesky(matrix):\n",
    "    n = len(matrix)\n",
    "    g = np.zeros((n,n))\n",
    "    \n",
    "    #calculando a primeira coluna\n",
    "    #g[0][0] = matrix[0][0]**(1/2)\n",
    "    #for i in range(1,n):\n",
    "    #    g[i][0] = matrix[i][0]/g[0][0]\n",
    "    \n",
    "    for i in range(0,n):\n",
    "        acc = 0\n",
    "        for k in range(0,i):\n",
    "            acc += (g[i][k]**2)\n",
    "        g[i][i] = (matrix[i][i] - acc)**(1/2)        \n",
    "        \n",
    "        for j in range(i+1,n):\n",
    "            acc2 = 0\n",
    "            for k in range(0,j-1):\n",
    "                acc2 += (g[i][k]*g[j][k])\n",
    "            g[j][i] = (matrix[j][i] - acc2)/g[i][i]\n",
    "    \n",
    "    return g, (g.diagonal().prod())**2\n",
    "        "
   ]
  },
  {
   "cell_type": "code",
   "execution_count": 75,
   "metadata": {},
   "outputs": [
    {
     "name": "stdout",
     "output_type": "stream",
     "text": [
      "[[ 2.  0.  0.]\n",
      " [ 1.  3.  0.]\n",
      " [-2.  2.  1.]] 36.0\n"
     ]
    }
   ],
   "source": [
    "matrix = [[4.0,2.0,-4.0],[2.0,10.0,4.0],[-4.0,4.0,9.0]]\n",
    "R,determinante = Cholesky(matrix)\n",
    "print(R,determinante)"
   ]
  },
  {
   "cell_type": "code",
   "execution_count": 76,
   "metadata": {},
   "outputs": [
    {
     "data": {
      "text/plain": [
       "array([[ 2.,  0.,  0.],\n",
       "       [ 1.,  3.,  0.],\n",
       "       [-2.,  2.,  1.]])"
      ]
     },
     "execution_count": 76,
     "metadata": {},
     "output_type": "execute_result"
    }
   ],
   "source": [
    "R"
   ]
  },
  {
   "cell_type": "code",
   "execution_count": 77,
   "metadata": {},
   "outputs": [
    {
     "data": {
      "text/plain": [
       "array([[ 2.,  1., -2.],\n",
       "       [ 0.,  3.,  2.],\n",
       "       [ 0.,  0.,  1.]])"
      ]
     },
     "execution_count": 77,
     "metadata": {},
     "output_type": "execute_result"
    }
   ],
   "source": [
    "R.T"
   ]
  },
  {
   "cell_type": "code",
   "execution_count": 78,
   "metadata": {},
   "outputs": [
    {
     "data": {
      "text/plain": [
       "36.0"
      ]
     },
     "execution_count": 78,
     "metadata": {},
     "output_type": "execute_result"
    }
   ],
   "source": [
    "determinante"
   ]
  },
  {
   "cell_type": "code",
   "execution_count": null,
   "metadata": {},
   "outputs": [],
   "source": []
  }
 ],
 "metadata": {
  "kernelspec": {
   "display_name": "Python 3",
   "language": "python",
   "name": "python3"
  },
  "language_info": {
   "codemirror_mode": {
    "name": "ipython",
    "version": 3
   },
   "file_extension": ".py",
   "mimetype": "text/x-python",
   "name": "python",
   "nbconvert_exporter": "python",
   "pygments_lexer": "ipython3",
   "version": "3.6.5"
  }
 },
 "nbformat": 4,
 "nbformat_minor": 2
}
