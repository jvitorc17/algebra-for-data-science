{
 "cells": [
  {
   "cell_type": "markdown",
   "metadata": {},
   "source": [
    "### Decomposição Cholesky"
   ]
  },
  {
   "cell_type": "markdown",
   "metadata": {},
   "source": [
    "Se a matriz $A$ é simétrica e definida positiva, podemos decompô-la unicamente no produto $GG^{t}$, onde $G$ é uma matriz triangular inferior com elementos positivos na diagonal. Uma matriz simetrica $A$ é definida positiva se, e somente se, seus autovalores sao reais e positivos."
   ]
  },
  {
   "cell_type": "markdown",
   "metadata": {},
   "source": [
    "Seja\n",
    "$A=\n",
    "  \\left[ {\\begin{array}{cc}\n",
    "   a_{11} & a_{12} & \\dots & a_{1n} \\\\\n",
    "   a_{21} & a_{22} & \\dots & a_{2n} \\\\\n",
    "   \\vdots & \\vdots & \\ddots & \\vdots \\\\\n",
    "   a_{n1} & a_{n2} & \\dots & a_{nn} \\\\\n",
    "  \\end{array} } \\right] =\n",
    " $ \n",
    " $  \n",
    "   \\left[ {\\begin{array}{cc}\n",
    "   g_{11} & 0      & \\dots  & 0 \\\\\n",
    "   g_{21} & g_{22} & \\dots  & 0 \\\\\n",
    "   \\vdots & \\vdots & \\ddots & \\vdots \\\\\n",
    "   g_{n1} & g_{n2} & \\dots  & g_{nn} \\\\\n",
    "  \\end{array} } \\right] *\n",
    "  $\n",
    "  $\n",
    "  \\left[ {\\begin{array}{cc}\n",
    "   g_{11} & g_{21} & \\dots  & g_{n1} \\\\\n",
    "   0      & g_{22} & \\dots  & g_{n2} \\\\\n",
    "   \\vdots & \\vdots & \\ddots & \\vdots \\\\\n",
    "   0      & 0      & \\dots  & g_{nn} \\\\\n",
    "  \\end{array} } \\right]$"
   ]
  },
  {
   "cell_type": "markdown",
   "metadata": {},
   "source": [
    "### Calculando as diagonais principais:"
   ]
  },
  {
   "cell_type": "markdown",
   "metadata": {},
   "source": [
    "$a_{11} = g_{11}^2 $<br>\n",
    "$a_{22} = g_{21}^2 + g_{22}^2$<br>\n",
    "$\\vdots $<br>\n",
    "$a_{nn} = g_{n1}^2 + g_{n2}^2 + \\dots + g_{nn}^2$"
   ]
  },
  {
   "cell_type": "markdown",
   "metadata": {},
   "source": [
    "Assim,"
   ]
  },
  {
   "cell_type": "markdown",
   "metadata": {},
   "source": [
    "$ g_{11} = \\sqrt{a_{11}} $ <br>\n",
    "$g_{22} = \\sqrt{a_{22} - g_{21}^2}$ <br>\n",
    "$\\vdots$ <br>\n",
    "$g_{nn} = \\sqrt{a_{nn} - g_{n1}^2 - g_{n2}^2 - \\dots - g_{nn-1}^2}$"
   ]
  },
  {
   "cell_type": "markdown",
   "metadata": {},
   "source": [
    "Regra geral,"
   ]
  },
  {
   "cell_type": "markdown",
   "metadata": {},
   "source": [
    "$ g_{11} = \\sqrt{a_{11}} $  <br>\n",
    "$g_{ii} = \\sqrt{a_{ii} - \\sum_{k = 1}^{i-1}g_{ik}^2},  i = 2,3 \\dots n $"
   ]
  },
  {
   "cell_type": "markdown",
   "metadata": {},
   "source": [
    "### Fórmula Geral"
   ]
  },
  {
   "cell_type": "markdown",
   "metadata": {},
   "source": [
    "### $g_{i1} = \\frac{a_{i1}}{g_{11}} $, $ \\forall i \\in {1,2, \\dots n}$<br>\n",
    "### $g_{ij} = \\frac{(a_{ij} - \\sum_{k=1}^{j-1} g_{ik}*g_{jk})}{g_{jj}}$"
   ]
  },
  {
   "cell_type": "markdown",
   "metadata": {},
   "source": [
    "### Determinante"
   ]
  },
  {
   "cell_type": "markdown",
   "metadata": {},
   "source": [
    "$ A = G^{t}G $ <br>\n",
    "$ det(A) = det(G^{t}) * det(G) $<br> \n",
    "$det(A) = (a_{11} * a_{22} * \\dots *a_{nn})^2\n",
    "$\n"
   ]
  },
  {
   "cell_type": "code",
   "execution_count": 7,
   "metadata": {},
   "outputs": [],
   "source": [
    "import numpy as np"
   ]
  },
  {
   "cell_type": "code",
   "execution_count": 8,
   "metadata": {},
   "outputs": [],
   "source": [
    "def is_simetric(matrix):\n",
    "    n = len(matrix)\n",
    "    for i in range(n):\n",
    "        for j in range(i,n):\n",
    "            if i != j :\n",
    "                if matrix[i][j] != matrix[j][i]:\n",
    "                    return False\n",
    "    return True\n",
    "\n",
    "def is_defined_positive(matrix):\n",
    "    eigvalues = np.linalg.eigvals(matrix)\n",
    "    for i in eigvalues:\n",
    "        if(not np.isreal(i)):\n",
    "            return False\n",
    "    return min(eigvalues)>0"
   ]
  },
  {
   "cell_type": "code",
   "execution_count": 64,
   "metadata": {},
   "outputs": [],
   "source": [
    "def Cholesky(matrix):\n",
    "    if not is_simetric(matrix):\n",
    "        print(is_defined_positive(matrix))\n",
    "        print(\"Não é simética\")\n",
    "        return None,None\n",
    "    \n",
    "    else:\n",
    "        n = len(matrix)\n",
    "        g = np.zeros((n,n))\n",
    "        for i in range(0,n):\n",
    "            acc = 0\n",
    "            for k in range(0,i):\n",
    "                acc += (g[i][k]**2)\n",
    "            g[i][i] = (matrix[i][i] - acc)**(1/2)        \n",
    "\n",
    "            for j in range(i+1,n):\n",
    "                acc2 = 0\n",
    "                for k in range(0,j-1):\n",
    "                    acc2 += (g[i][k]*g[j][k])\n",
    "                g[j][i] = (matrix[j][i] - acc2)/g[i][i]\n",
    "\n",
    "        return g,g.T,(g.diagonal().prod())**2 # matriz e o determinante\n",
    "\n",
    "    \n",
    "def solve(A,b):\n",
    "    n = len(b)\n",
    "    y = np.zeros(n)\n",
    "    x = np.zeros(n)\n",
    "    L, U, det = Cholesky(A)\n",
    "    \n",
    "    \n",
    "    y[0] = b[0]/L[0][0]\n",
    "    for i in range(1, n):\n",
    "        suma = 0.0\n",
    "        for j in range(i):\n",
    "            suma += L[i][j] * y[j]\n",
    "        y[i] = (b[i] - suma)/L[i][i]\n",
    "\n",
    "    x[n-1] = y[n-1]/U[n-1][n-1]\n",
    "    for i in range(n-1, -1, -1):\n",
    "        suma = y[i]\n",
    "        for j in range(i+1, n):\n",
    "            suma = suma - U[i][j] * x[j]\n",
    "        x[i] = suma/U[i][i]\n",
    "    return x\n",
    "\n",
    "def verify(A,x,b):\n",
    "    r = np.dot(A,x)\n",
    "    return r == b"
   ]
  },
  {
   "cell_type": "code",
   "execution_count": 61,
   "metadata": {},
   "outputs": [],
   "source": [
    "matrix = np.array([[4.0,2.0,-4.0],[2.0,10.0,4.0],[-4.0,4.0,9.0]])\n",
    "b = np.array([3,3,5])\n",
    "resultado = solve(matrix,b)"
   ]
  },
  {
   "cell_type": "code",
   "execution_count": 63,
   "metadata": {},
   "outputs": [
    {
     "data": {
      "text/plain": [
       "array([ True,  True,  True])"
      ]
     },
     "execution_count": 63,
     "metadata": {},
     "output_type": "execute_result"
    }
   ],
   "source": [
    "verify(matrix,resultado,b)"
   ]
  },
  {
   "cell_type": "code",
   "execution_count": 45,
   "metadata": {},
   "outputs": [
    {
     "data": {
      "text/plain": [
       "array([[3, 6],\n",
       "       [3, 6]])"
      ]
     },
     "execution_count": 45,
     "metadata": {},
     "output_type": "execute_result"
    }
   ],
   "source": [
    "a = np.array([[1,2],[1,2]])\n",
    "b = np.array([[1,2],[1,2]])\n",
    "np.dot(a,b)"
   ]
  },
  {
   "cell_type": "code",
   "execution_count": 49,
   "metadata": {},
   "outputs": [],
   "source": [
    "m2 = np.array([[4,-1,1],[-1,4.25,2.75],[1,2.75,3.5]])"
   ]
  },
  {
   "cell_type": "code",
   "execution_count": 51,
   "metadata": {},
   "outputs": [
    {
     "name": "stdout",
     "output_type": "stream",
     "text": [
      "[[ 2.   0.   0. ]\n",
      " [-0.5  2.   0. ]\n",
      " [ 0.5  1.5  1. ]]\n"
     ]
    }
   ],
   "source": [
    "R,RT,determinante = Cholesky(m2)\n",
    "print(R)"
   ]
  },
  {
   "cell_type": "code",
   "execution_count": 52,
   "metadata": {},
   "outputs": [
    {
     "data": {
      "text/plain": [
       "array([[ 4.  , -1.  ,  1.  ],\n",
       "       [-1.  ,  4.25,  2.75],\n",
       "       [ 1.  ,  2.75,  3.5 ]])"
      ]
     },
     "execution_count": 52,
     "metadata": {},
     "output_type": "execute_result"
    }
   ],
   "source": [
    "np.dot(R, R.T)"
   ]
  },
  {
   "cell_type": "code",
   "execution_count": 53,
   "metadata": {},
   "outputs": [
    {
     "data": {
      "text/plain": [
       "array([[ 2.,  0.,  0.],\n",
       "       [ 1.,  3.,  0.],\n",
       "       [-2.,  2.,  1.]])"
      ]
     },
     "execution_count": 53,
     "metadata": {},
     "output_type": "execute_result"
    }
   ],
   "source": [
    "np.linalg.cholesky(matrix)"
   ]
  },
  {
   "cell_type": "code",
   "execution_count": 54,
   "metadata": {},
   "outputs": [
    {
     "data": {
      "text/plain": [
       "array([[ 2. ,  0. ,  0. ],\n",
       "       [-0.5,  2. ,  0. ],\n",
       "       [ 0.5,  1.5,  1. ]])"
      ]
     },
     "execution_count": 54,
     "metadata": {},
     "output_type": "execute_result"
    }
   ],
   "source": [
    "np.linalg.cholesky(m2)"
   ]
  },
  {
   "cell_type": "code",
   "execution_count": 55,
   "metadata": {},
   "outputs": [],
   "source": [
    "a = np.array([[4,-1,1],[-1,4.25,2.75],[1,2.75,3.5]])"
   ]
  },
  {
   "cell_type": "code",
   "execution_count": 56,
   "metadata": {},
   "outputs": [
    {
     "data": {
      "text/plain": [
       "array([[ 4.  , -1.  ,  1.  ],\n",
       "       [-1.  ,  4.25,  2.75],\n",
       "       [ 1.  ,  2.75,  3.5 ]])"
      ]
     },
     "execution_count": 56,
     "metadata": {},
     "output_type": "execute_result"
    }
   ],
   "source": [
    "a"
   ]
  },
  {
   "cell_type": "code",
   "execution_count": 57,
   "metadata": {},
   "outputs": [],
   "source": [
    "m3 = np.array([[4,-12,8],[-12,45,-42],[8,-42,68]])"
   ]
  },
  {
   "cell_type": "code",
   "execution_count": 59,
   "metadata": {},
   "outputs": [
    {
     "data": {
      "text/plain": [
       "array([[ 2.,  0.,  0.],\n",
       "       [-6.,  3.,  0.],\n",
       "       [ 4., -6.,  4.]])"
      ]
     },
     "execution_count": 59,
     "metadata": {},
     "output_type": "execute_result"
    }
   ],
   "source": [
    "Cholesky(m3)[0]"
   ]
  },
  {
   "cell_type": "code",
   "execution_count": null,
   "metadata": {},
   "outputs": [],
   "source": []
  }
 ],
 "metadata": {
  "kernelspec": {
   "display_name": "Python 3",
   "language": "python",
   "name": "python3"
  },
  "language_info": {
   "codemirror_mode": {
    "name": "ipython",
    "version": 3
   },
   "file_extension": ".py",
   "mimetype": "text/x-python",
   "name": "python",
   "nbconvert_exporter": "python",
   "pygments_lexer": "ipython3",
   "version": "3.6.5"
  }
 },
 "nbformat": 4,
 "nbformat_minor": 2
}
