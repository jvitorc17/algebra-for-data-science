{
 "cells": [
  {
   "cell_type": "markdown",
   "metadata": {},
   "source": [
    "### <center>Decomposição Cholesky</center>"
   ]
  },
  {
   "cell_type": "code",
   "execution_count": 1,
   "metadata": {},
   "outputs": [],
   "source": [
    "import numpy as np"
   ]
  },
  {
   "cell_type": "markdown",
   "metadata": {},
   "source": [
    "Seja\n",
    "$A=\n",
    "  \\left[ {\\begin{array}{cc}\n",
    "   a_{11} & a_{12} & \\dots & a_{1n} \\\\\n",
    "   a_{21} & a_{22} & \\dots & a_{2n} \\\\\n",
    "   \\vdots & \\vdots & \\ddots & \\vdots \\\\\n",
    "   a_{n1} & a_{n2} & \\dots & a_{nn} \\\\\n",
    "  \\end{array} } \\right] \n",
    "  =\n",
    "   \\left[ {\\begin{array}{cc}\n",
    "   g_{11} & 0      & \\dots  & 0 \\\\\n",
    "   g_{21} & g_{22} & \\dots  & 0 \\\\\n",
    "   \\vdots & \\vdots & \\ddots & \\vdots \\\\\n",
    "   g_{n1} & g_{n2} & \\dots  & g_{nn} \\\\\n",
    "  \\end{array} } \\right] \n",
    "  * \n",
    "  \\left[ {\\begin{array}{cc}\n",
    "   g_{11} & g_{21} & \\dots  & g_{n1} \\\\\n",
    "   0      & g_{22} & \\dots  & g_{n2} \\\\\n",
    "   \\vdots & \\vdots & \\ddots & \\vdots \\\\\n",
    "   0      & 0      & \\dots  & g_{nn} \\\\\n",
    "  \\end{array} } \\right] $ "
   ]
  },
  {
   "cell_type": "markdown",
   "metadata": {},
   "source": [
    "Calculando as diagonais principais:"
   ]
  },
  {
   "cell_type": "markdown",
   "metadata": {},
   "source": [
    "$\n",
    "a_{11} = g_{11}^2 \\\\\n",
    "a_{22} = g_{21}^2 + g_{22}^2 \\\\\n",
    "\\vdots \\\\\n",
    "a_{nn} = g_{n1}^2 + g_{n2}^2 + \\dots + g_{nn}^2\n",
    "$"
   ]
  },
  {
   "cell_type": "markdown",
   "metadata": {},
   "source": [
    "Assim,"
   ]
  },
  {
   "cell_type": "markdown",
   "metadata": {},
   "source": [
    "$\n",
    "g_{11} = \\sqrt{a_{11}} \\\\\n",
    "g_{22} = \\sqrt{a_{22} - g_{21}^2} \\\\\n",
    "\\vdots \\\\\n",
    "g_{nn} = \\sqrt{a_{nn} - g_{n1}^2 - g_{n2}^2 - \\dots - g_{nn-1}^2}\n",
    "$"
   ]
  },
  {
   "cell_type": "markdown",
   "metadata": {},
   "source": [
    "Regra geral,"
   ]
  },
  {
   "cell_type": "markdown",
   "metadata": {},
   "source": [
    "$\n",
    "g_{11} = \\sqrt{a_{11}} \\\\\n",
    "g_{ii} = \\sqrt{a_{ii} - \\sum_{k = 1}^{i-1}g_{ik}^2},  i = 2,3 \\dots n\n",
    "$"
   ]
  },
  {
   "cell_type": "code",
   "execution_count": 28,
   "metadata": {},
   "outputs": [],
   "source": [
    "def Cholesky(matrix):\n",
    "    g = [np.zeros(len(matrix)) for i in range(len(matrix))]\n",
    "    \n",
    "    #calculando a primeira coluna\n",
    "    g[0][0] = matrix[0][0]**(1/2)\n",
    "    for i in range(1,len(matrix)):\n",
    "        g[i][0] = matrix[i][0]/g[0][0]\n",
    "    \n",
    "    for i in range(1,len(matrix)): # l representa a coluna atual\n",
    "        acc = 0\n",
    "        for k in range(0,i):\n",
    "            acc += (g[i][k]**2)\n",
    "        g[i][i] = (matrix[i][i] - acc)**(1/2)        \n",
    "        \n",
    "        for j in range(i+1,len(matrix)):\n",
    "            acc2 = 0\n",
    "            for k in range(0,j-1):\n",
    "                acc2 += (g[i][k]*g[j][k])\n",
    "            g[j][i] = (matrix[j][i] - acc2)/g[i][i]\n",
    "    \n",
    "    return g\n",
    "        "
   ]
  },
  {
   "cell_type": "code",
   "execution_count": 29,
   "metadata": {},
   "outputs": [
    {
     "data": {
      "text/plain": [
       "[array([2., 0., 0.]), array([1., 3., 0.]), array([-2.,  2.,  1.])]"
      ]
     },
     "execution_count": 29,
     "metadata": {},
     "output_type": "execute_result"
    }
   ],
   "source": [
    "matrix = [[4.0,2.0,-4.0],[2.0,10.0,4.0],[-4.0,4.0,9.0]]\n",
    "Cholesky(matrix)"
   ]
  },
  {
   "cell_type": "code",
   "execution_count": null,
   "metadata": {},
   "outputs": [],
   "source": []
  },
  {
   "cell_type": "code",
   "execution_count": null,
   "metadata": {},
   "outputs": [],
   "source": []
  },
  {
   "cell_type": "code",
   "execution_count": null,
   "metadata": {},
   "outputs": [],
   "source": []
  }
 ],
 "metadata": {
  "kernelspec": {
   "display_name": "Python 3",
   "language": "python",
   "name": "python3"
  },
  "language_info": {
   "codemirror_mode": {
    "name": "ipython",
    "version": 3
   },
   "file_extension": ".py",
   "mimetype": "text/x-python",
   "name": "python",
   "nbconvert_exporter": "python",
   "pygments_lexer": "ipython3",
   "version": "3.6.5"
  }
 },
 "nbformat": 4,
 "nbformat_minor": 2
}
